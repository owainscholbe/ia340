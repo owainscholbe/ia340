{
 "cells": [
  {
   "cell_type": "code",
   "execution_count": 3,
   "metadata": {},
   "outputs": [
    {
     "name": "stdout",
     "output_type": "stream",
     "text": [
      "Requirement already satisfied: psycopg2 in c:\\programdata\\anaconda3\\lib\\site-packages (2.8.3)\n"
     ]
    }
   ],
   "source": [
    "!pip install psycopg2"
   ]
  },
  {
   "cell_type": "code",
   "execution_count": 4,
   "metadata": {},
   "outputs": [],
   "source": [
    "import pandas\n",
    "import configparser\n",
    "import psycopg2"
   ]
  },
  {
   "cell_type": "code",
   "execution_count": 5,
   "metadata": {},
   "outputs": [],
   "source": [
    "config = configparser.ConfigParser()\n",
    "config.read('config.ini')\n",
    "\n",
    "\n",
    "host = config['myaws']['host']\n",
    "user = config['myaws']['user']\n",
    "pwd = config['myaws']['pwd']\n",
    "database = config['myaws']['database']"
   ]
  },
  {
   "cell_type": "code",
   "execution_count": 6,
   "metadata": {},
   "outputs": [],
   "source": [
    "conn = psycopg2.connect(\n",
    "                        host = host,\n",
    "                        user = user,\n",
    "                        password = pwd,\n",
    "                        dbname = database\n",
    ")"
   ]
  },
  {
   "cell_type": "code",
   "execution_count": 7,
   "metadata": {},
   "outputs": [],
   "source": [
    "cur = conn.cursor()"
   ]
  },
  {
   "cell_type": "markdown",
   "metadata": {},
   "source": [
    "#### 1)"
   ]
  },
  {
   "cell_type": "code",
   "execution_count": 8,
   "metadata": {},
   "outputs": [],
   "source": [
    "sql_statement = ''' select * from\n",
    "                    student_gp12\n",
    "\n",
    "                '''"
   ]
  },
  {
   "cell_type": "code",
   "execution_count": 9,
   "metadata": {},
   "outputs": [
    {
     "data": {
      "text/html": [
       "<div>\n",
       "<style scoped>\n",
       "    .dataframe tbody tr th:only-of-type {\n",
       "        vertical-align: middle;\n",
       "    }\n",
       "\n",
       "    .dataframe tbody tr th {\n",
       "        vertical-align: top;\n",
       "    }\n",
       "\n",
       "    .dataframe thead th {\n",
       "        text-align: right;\n",
       "    }\n",
       "</style>\n",
       "<table border=\"1\" class=\"dataframe\">\n",
       "  <thead>\n",
       "    <tr style=\"text-align: right;\">\n",
       "      <th></th>\n",
       "      <th>email</th>\n",
       "      <th>name</th>\n",
       "      <th>major</th>\n",
       "    </tr>\n",
       "  </thead>\n",
       "  <tbody>\n",
       "    <tr>\n",
       "      <th>0</th>\n",
       "      <td>owain@dukes.jmu.edu                           ...</td>\n",
       "      <td>Owain Scholbe                                 ...</td>\n",
       "      <td>IA</td>\n",
       "    </tr>\n",
       "    <tr>\n",
       "      <th>1</th>\n",
       "      <td>scholbe@dukes.jmu.edu                         ...</td>\n",
       "      <td>Scholbe Owain                                 ...</td>\n",
       "      <td>IA</td>\n",
       "    </tr>\n",
       "    <tr>\n",
       "      <th>2</th>\n",
       "      <td>john@dukes.jmu.edu                            ...</td>\n",
       "      <td>John Johnson                                  ...</td>\n",
       "      <td>IA</td>\n",
       "    </tr>\n",
       "    <tr>\n",
       "      <th>3</th>\n",
       "      <td>jack@dukes.jmu.edu                            ...</td>\n",
       "      <td>Jack Jackson                                  ...</td>\n",
       "      <td>IA</td>\n",
       "    </tr>\n",
       "    <tr>\n",
       "      <th>4</th>\n",
       "      <td>david@dukes.jmu.edu                           ...</td>\n",
       "      <td>David Davidson                                ...</td>\n",
       "      <td>IA</td>\n",
       "    </tr>\n",
       "  </tbody>\n",
       "</table>\n",
       "</div>"
      ],
      "text/plain": [
       "                                               email  \\\n",
       "0  owain@dukes.jmu.edu                           ...   \n",
       "1  scholbe@dukes.jmu.edu                         ...   \n",
       "2  john@dukes.jmu.edu                            ...   \n",
       "3  jack@dukes.jmu.edu                            ...   \n",
       "4  david@dukes.jmu.edu                           ...   \n",
       "\n",
       "                                                name                 major  \n",
       "0  Owain Scholbe                                 ...  IA                    \n",
       "1  Scholbe Owain                                 ...  IA                    \n",
       "2  John Johnson                                  ...  IA                    \n",
       "3  Jack Jackson                                  ...  IA                    \n",
       "4  David Davidson                                ...  IA                    "
      ]
     },
     "execution_count": 9,
     "metadata": {},
     "output_type": "execute_result"
    }
   ],
   "source": [
    "df = pandas.read_sql_query(sql_statement, conn)\n",
    "df[:]"
   ]
  },
  {
   "cell_type": "markdown",
   "metadata": {},
   "source": [
    "#### 2)"
   ]
  },
  {
   "cell_type": "code",
   "execution_count": 10,
   "metadata": {},
   "outputs": [],
   "source": [
    "sql_statement2 = '''\n",
    "                select \n",
    "                cname, count(semail)\n",
    "                from enroll_gp12\n",
    "                group by cname\n",
    "                order by count(semail) desc\n",
    "                limit 1\n",
    "\n",
    "                '''"
   ]
  },
  {
   "cell_type": "code",
   "execution_count": 11,
   "metadata": {},
   "outputs": [
    {
     "data": {
      "text/html": [
       "<div>\n",
       "<style scoped>\n",
       "    .dataframe tbody tr th:only-of-type {\n",
       "        vertical-align: middle;\n",
       "    }\n",
       "\n",
       "    .dataframe tbody tr th {\n",
       "        vertical-align: top;\n",
       "    }\n",
       "\n",
       "    .dataframe thead th {\n",
       "        text-align: right;\n",
       "    }\n",
       "</style>\n",
       "<table border=\"1\" class=\"dataframe\">\n",
       "  <thead>\n",
       "    <tr style=\"text-align: right;\">\n",
       "      <th></th>\n",
       "      <th>cname</th>\n",
       "      <th>count</th>\n",
       "    </tr>\n",
       "  </thead>\n",
       "  <tbody>\n",
       "    <tr>\n",
       "      <th>0</th>\n",
       "      <td>ia261                                         ...</td>\n",
       "      <td>1</td>\n",
       "    </tr>\n",
       "  </tbody>\n",
       "</table>\n",
       "</div>"
      ],
      "text/plain": [
       "                                               cname  count\n",
       "0  ia261                                         ...      1"
      ]
     },
     "execution_count": 11,
     "metadata": {},
     "output_type": "execute_result"
    }
   ],
   "source": [
    "df = pandas.read_sql_query(sql_statement2, conn)\n",
    "df[:]"
   ]
  },
  {
   "cell_type": "markdown",
   "metadata": {},
   "source": [
    "#### 3)"
   ]
  },
  {
   "cell_type": "code",
   "execution_count": 12,
   "metadata": {},
   "outputs": [],
   "source": [
    "sql_statement3 = ''' select * from teacher_gp12\n",
    "                    inner join course_gp12\n",
    "                    on teacher_gp12.email = course_gp12.temail\n",
    "\n",
    "                '''"
   ]
  },
  {
   "cell_type": "code",
   "execution_count": 13,
   "metadata": {},
   "outputs": [
    {
     "data": {
      "text/html": [
       "<div>\n",
       "<style scoped>\n",
       "    .dataframe tbody tr th:only-of-type {\n",
       "        vertical-align: middle;\n",
       "    }\n",
       "\n",
       "    .dataframe tbody tr th {\n",
       "        vertical-align: top;\n",
       "    }\n",
       "\n",
       "    .dataframe thead th {\n",
       "        text-align: right;\n",
       "    }\n",
       "</style>\n",
       "<table border=\"1\" class=\"dataframe\">\n",
       "  <thead>\n",
       "    <tr style=\"text-align: right;\">\n",
       "      <th></th>\n",
       "      <th>email</th>\n",
       "      <th>name</th>\n",
       "      <th>office</th>\n",
       "      <th>name</th>\n",
       "      <th>room</th>\n",
       "      <th>temail</th>\n",
       "    </tr>\n",
       "  </thead>\n",
       "  <tbody>\n",
       "    <tr>\n",
       "      <th>0</th>\n",
       "      <td>weixx@jmu.edu                                 ...</td>\n",
       "      <td>Xuebin Wei                                    ...</td>\n",
       "      <td>hhs112</td>\n",
       "      <td>ia210                                         ...</td>\n",
       "      <td>engeo2202</td>\n",
       "      <td>weixx@jmu.edu                                 ...</td>\n",
       "    </tr>\n",
       "    <tr>\n",
       "      <th>1</th>\n",
       "      <td>marrinsp@jmu.edu                              ...</td>\n",
       "      <td>Stephen Marrin                                ...</td>\n",
       "      <td>engeo2104</td>\n",
       "      <td>ia300                                         ...</td>\n",
       "      <td>engeo1209</td>\n",
       "      <td>marrinsp@jmu.edu                              ...</td>\n",
       "    </tr>\n",
       "    <tr>\n",
       "      <th>2</th>\n",
       "      <td>waltontr@jmu.edu                              ...</td>\n",
       "      <td>Timothy Walton                                ...</td>\n",
       "      <td>isat326</td>\n",
       "      <td>ia261                                         ...</td>\n",
       "      <td>isat150</td>\n",
       "      <td>waltontr@jmu.edu                              ...</td>\n",
       "    </tr>\n",
       "    <tr>\n",
       "      <th>3</th>\n",
       "      <td>moore8ka@jmu.edu                              ...</td>\n",
       "      <td>Kathleen Moore                                ...</td>\n",
       "      <td>isat116</td>\n",
       "      <td>ia240                                         ...</td>\n",
       "      <td>engeo2202</td>\n",
       "      <td>moore8ka@jmu.edu                              ...</td>\n",
       "    </tr>\n",
       "    <tr>\n",
       "      <th>4</th>\n",
       "      <td>faketeacher@jmu.edu                           ...</td>\n",
       "      <td>Fake Teacher                                  ...</td>\n",
       "      <td>engeo2010</td>\n",
       "      <td>ia480                                         ...</td>\n",
       "      <td>engeo2014</td>\n",
       "      <td>faketeacher@jmu.edu                           ...</td>\n",
       "    </tr>\n",
       "    <tr>\n",
       "      <th>5</th>\n",
       "      <td>faketeacher@jmu.edu                           ...</td>\n",
       "      <td>Fake Teacher                                  ...</td>\n",
       "      <td>engeo2010</td>\n",
       "      <td>ia340                                         ...</td>\n",
       "      <td>engeo2010</td>\n",
       "      <td>faketeacher@jmu.edu                           ...</td>\n",
       "    </tr>\n",
       "  </tbody>\n",
       "</table>\n",
       "</div>"
      ],
      "text/plain": [
       "                                               email  \\\n",
       "0  weixx@jmu.edu                                 ...   \n",
       "1  marrinsp@jmu.edu                              ...   \n",
       "2  waltontr@jmu.edu                              ...   \n",
       "3  moore8ka@jmu.edu                              ...   \n",
       "4  faketeacher@jmu.edu                           ...   \n",
       "5  faketeacher@jmu.edu                           ...   \n",
       "\n",
       "                                                name                office  \\\n",
       "0  Xuebin Wei                                    ...  hhs112                 \n",
       "1  Stephen Marrin                                ...  engeo2104              \n",
       "2  Timothy Walton                                ...  isat326                \n",
       "3  Kathleen Moore                                ...  isat116                \n",
       "4  Fake Teacher                                  ...  engeo2010              \n",
       "5  Fake Teacher                                  ...  engeo2010              \n",
       "\n",
       "                                                name                  room  \\\n",
       "0  ia210                                         ...  engeo2202              \n",
       "1  ia300                                         ...  engeo1209              \n",
       "2  ia261                                         ...  isat150                \n",
       "3  ia240                                         ...  engeo2202              \n",
       "4  ia480                                         ...  engeo2014              \n",
       "5  ia340                                         ...  engeo2010              \n",
       "\n",
       "                                              temail  \n",
       "0  weixx@jmu.edu                                 ...  \n",
       "1  marrinsp@jmu.edu                              ...  \n",
       "2  waltontr@jmu.edu                              ...  \n",
       "3  moore8ka@jmu.edu                              ...  \n",
       "4  faketeacher@jmu.edu                           ...  \n",
       "5  faketeacher@jmu.edu                           ...  "
      ]
     },
     "execution_count": 13,
     "metadata": {},
     "output_type": "execute_result"
    }
   ],
   "source": [
    "df = pandas.read_sql_query(sql_statement3, conn)\n",
    "df[:]"
   ]
  },
  {
   "cell_type": "markdown",
   "metadata": {},
   "source": [
    "#### 4)"
   ]
  },
  {
   "cell_type": "code",
   "execution_count": 14,
   "metadata": {},
   "outputs": [],
   "source": [
    "sql_statement4 = ''' select \n",
    "                    teacher_gp12.name as tname,\n",
    "                    count(course_gp12.name) as course_number\n",
    "                    from teacher_gp12\n",
    "                    inner join course_gp12\n",
    "                    on teacher_gp12.email = course_gp12.temail\n",
    "                    group by teacher_gp12.name\n",
    "                    order by count(course_gp12.name)\n",
    "                    limit 1\n",
    "\n",
    "                '''"
   ]
  },
  {
   "cell_type": "code",
   "execution_count": 15,
   "metadata": {},
   "outputs": [
    {
     "data": {
      "text/html": [
       "<div>\n",
       "<style scoped>\n",
       "    .dataframe tbody tr th:only-of-type {\n",
       "        vertical-align: middle;\n",
       "    }\n",
       "\n",
       "    .dataframe tbody tr th {\n",
       "        vertical-align: top;\n",
       "    }\n",
       "\n",
       "    .dataframe thead th {\n",
       "        text-align: right;\n",
       "    }\n",
       "</style>\n",
       "<table border=\"1\" class=\"dataframe\">\n",
       "  <thead>\n",
       "    <tr style=\"text-align: right;\">\n",
       "      <th></th>\n",
       "      <th>tname</th>\n",
       "      <th>course_number</th>\n",
       "    </tr>\n",
       "  </thead>\n",
       "  <tbody>\n",
       "    <tr>\n",
       "      <th>0</th>\n",
       "      <td>Timothy Walton                                ...</td>\n",
       "      <td>1</td>\n",
       "    </tr>\n",
       "  </tbody>\n",
       "</table>\n",
       "</div>"
      ],
      "text/plain": [
       "                                               tname  course_number\n",
       "0  Timothy Walton                                ...              1"
      ]
     },
     "execution_count": 15,
     "metadata": {},
     "output_type": "execute_result"
    }
   ],
   "source": [
    "df = pandas.read_sql_query(sql_statement4, conn)\n",
    "df[:]"
   ]
  },
  {
   "cell_type": "markdown",
   "metadata": {},
   "source": [
    "#### 5)"
   ]
  },
  {
   "cell_type": "code",
   "execution_count": 16,
   "metadata": {},
   "outputs": [],
   "source": [
    "sql_statement5 = ''' \n",
    "                insert into teacher_gp12(email,name,office)\n",
    "                values('{}', '{}', '{}')\n",
    "\n",
    "                '''.format('anotherfake@jmu.edu', 'Another Fake', 'engeo2011')"
   ]
  },
  {
   "cell_type": "code",
   "execution_count": 17,
   "metadata": {},
   "outputs": [
    {
     "name": "stdout",
     "output_type": "stream",
     "text": [
      " \n",
      "                insert into teacher_gp12(email,name,office)\n",
      "                values('anotherfake@jmu.edu', 'Another Fake', 'engeo2011')\n",
      "\n",
      "                \n"
     ]
    }
   ],
   "source": [
    "print(sql_statement5)"
   ]
  },
  {
   "cell_type": "code",
   "execution_count": 18,
   "metadata": {},
   "outputs": [],
   "source": [
    "cur.execute(sql_statement5)"
   ]
  },
  {
   "cell_type": "code",
   "execution_count": 19,
   "metadata": {},
   "outputs": [],
   "source": [
    "conn.commit()"
   ]
  },
  {
   "cell_type": "code",
   "execution_count": 20,
   "metadata": {},
   "outputs": [
    {
     "data": {
      "text/html": [
       "<div>\n",
       "<style scoped>\n",
       "    .dataframe tbody tr th:only-of-type {\n",
       "        vertical-align: middle;\n",
       "    }\n",
       "\n",
       "    .dataframe tbody tr th {\n",
       "        vertical-align: top;\n",
       "    }\n",
       "\n",
       "    .dataframe thead th {\n",
       "        text-align: right;\n",
       "    }\n",
       "</style>\n",
       "<table border=\"1\" class=\"dataframe\">\n",
       "  <thead>\n",
       "    <tr style=\"text-align: right;\">\n",
       "      <th></th>\n",
       "      <th>email</th>\n",
       "      <th>name</th>\n",
       "      <th>office</th>\n",
       "    </tr>\n",
       "  </thead>\n",
       "  <tbody>\n",
       "    <tr>\n",
       "      <th>0</th>\n",
       "      <td>weixx@jmu.edu                                 ...</td>\n",
       "      <td>Xuebin Wei                                    ...</td>\n",
       "      <td>hhs112</td>\n",
       "    </tr>\n",
       "    <tr>\n",
       "      <th>1</th>\n",
       "      <td>marrinsp@jmu.edu                              ...</td>\n",
       "      <td>Stephen Marrin                                ...</td>\n",
       "      <td>engeo2104</td>\n",
       "    </tr>\n",
       "    <tr>\n",
       "      <th>2</th>\n",
       "      <td>moore8ka@jmu.edu                              ...</td>\n",
       "      <td>Kathleen Moore                                ...</td>\n",
       "      <td>isat116</td>\n",
       "    </tr>\n",
       "    <tr>\n",
       "      <th>3</th>\n",
       "      <td>waltontr@jmu.edu                              ...</td>\n",
       "      <td>Timothy Walton                                ...</td>\n",
       "      <td>isat326</td>\n",
       "    </tr>\n",
       "    <tr>\n",
       "      <th>4</th>\n",
       "      <td>faketeacher@jmu.edu                           ...</td>\n",
       "      <td>Fake Teacher                                  ...</td>\n",
       "      <td>engeo2010</td>\n",
       "    </tr>\n",
       "    <tr>\n",
       "      <th>5</th>\n",
       "      <td>anotherfake@jmu.edu                           ...</td>\n",
       "      <td>Another Fake                                  ...</td>\n",
       "      <td>engeo2011</td>\n",
       "    </tr>\n",
       "  </tbody>\n",
       "</table>\n",
       "</div>"
      ],
      "text/plain": [
       "                                               email  \\\n",
       "0  weixx@jmu.edu                                 ...   \n",
       "1  marrinsp@jmu.edu                              ...   \n",
       "2  moore8ka@jmu.edu                              ...   \n",
       "3  waltontr@jmu.edu                              ...   \n",
       "4  faketeacher@jmu.edu                           ...   \n",
       "5  anotherfake@jmu.edu                           ...   \n",
       "\n",
       "                                                name                office  \n",
       "0  Xuebin Wei                                    ...  hhs112                \n",
       "1  Stephen Marrin                                ...  engeo2104             \n",
       "2  Kathleen Moore                                ...  isat116               \n",
       "3  Timothy Walton                                ...  isat326               \n",
       "4  Fake Teacher                                  ...  engeo2010             \n",
       "5  Another Fake                                  ...  engeo2011             "
      ]
     },
     "execution_count": 20,
     "metadata": {},
     "output_type": "execute_result"
    }
   ],
   "source": [
    "df = pandas.read_sql_query('select * from teacher_gp12', conn)\n",
    "df[:]"
   ]
  },
  {
   "cell_type": "code",
   "execution_count": 21,
   "metadata": {},
   "outputs": [],
   "source": [
    "sql_statement6 = ''' \n",
    "                insert into course_gp12(name,room,temail)\n",
    "                values('{}', '{}', '{}')\n",
    "\n",
    "                '''.format('ia250', 'engeo1209', 'anotherfake@jmu.edu')"
   ]
  },
  {
   "cell_type": "code",
   "execution_count": 22,
   "metadata": {},
   "outputs": [],
   "source": [
    "cur.execute(sql_statement6)"
   ]
  },
  {
   "cell_type": "code",
   "execution_count": 23,
   "metadata": {},
   "outputs": [],
   "source": [
    "conn.commit()"
   ]
  },
  {
   "cell_type": "code",
   "execution_count": 24,
   "metadata": {},
   "outputs": [
    {
     "data": {
      "text/html": [
       "<div>\n",
       "<style scoped>\n",
       "    .dataframe tbody tr th:only-of-type {\n",
       "        vertical-align: middle;\n",
       "    }\n",
       "\n",
       "    .dataframe tbody tr th {\n",
       "        vertical-align: top;\n",
       "    }\n",
       "\n",
       "    .dataframe thead th {\n",
       "        text-align: right;\n",
       "    }\n",
       "</style>\n",
       "<table border=\"1\" class=\"dataframe\">\n",
       "  <thead>\n",
       "    <tr style=\"text-align: right;\">\n",
       "      <th></th>\n",
       "      <th>name</th>\n",
       "      <th>room</th>\n",
       "      <th>temail</th>\n",
       "    </tr>\n",
       "  </thead>\n",
       "  <tbody>\n",
       "    <tr>\n",
       "      <th>0</th>\n",
       "      <td>ia210                                         ...</td>\n",
       "      <td>engeo2202</td>\n",
       "      <td>weixx@jmu.edu                                 ...</td>\n",
       "    </tr>\n",
       "    <tr>\n",
       "      <th>1</th>\n",
       "      <td>ia300                                         ...</td>\n",
       "      <td>engeo1209</td>\n",
       "      <td>marrinsp@jmu.edu                              ...</td>\n",
       "    </tr>\n",
       "    <tr>\n",
       "      <th>2</th>\n",
       "      <td>ia261                                         ...</td>\n",
       "      <td>isat150</td>\n",
       "      <td>waltontr@jmu.edu                              ...</td>\n",
       "    </tr>\n",
       "    <tr>\n",
       "      <th>3</th>\n",
       "      <td>ia240                                         ...</td>\n",
       "      <td>engeo2202</td>\n",
       "      <td>moore8ka@jmu.edu                              ...</td>\n",
       "    </tr>\n",
       "    <tr>\n",
       "      <th>4</th>\n",
       "      <td>ia480                                         ...</td>\n",
       "      <td>engeo2014</td>\n",
       "      <td>faketeacher@jmu.edu                           ...</td>\n",
       "    </tr>\n",
       "    <tr>\n",
       "      <th>5</th>\n",
       "      <td>ia340                                         ...</td>\n",
       "      <td>engeo2010</td>\n",
       "      <td>faketeacher@jmu.edu                           ...</td>\n",
       "    </tr>\n",
       "    <tr>\n",
       "      <th>6</th>\n",
       "      <td>ia250                                         ...</td>\n",
       "      <td>engeo1209</td>\n",
       "      <td>anotherfake@jmu.edu                           ...</td>\n",
       "    </tr>\n",
       "  </tbody>\n",
       "</table>\n",
       "</div>"
      ],
      "text/plain": [
       "                                                name                  room  \\\n",
       "0  ia210                                         ...  engeo2202              \n",
       "1  ia300                                         ...  engeo1209              \n",
       "2  ia261                                         ...  isat150                \n",
       "3  ia240                                         ...  engeo2202              \n",
       "4  ia480                                         ...  engeo2014              \n",
       "5  ia340                                         ...  engeo2010              \n",
       "6  ia250                                         ...  engeo1209              \n",
       "\n",
       "                                              temail  \n",
       "0  weixx@jmu.edu                                 ...  \n",
       "1  marrinsp@jmu.edu                              ...  \n",
       "2  waltontr@jmu.edu                              ...  \n",
       "3  moore8ka@jmu.edu                              ...  \n",
       "4  faketeacher@jmu.edu                           ...  \n",
       "5  faketeacher@jmu.edu                           ...  \n",
       "6  anotherfake@jmu.edu                           ...  "
      ]
     },
     "execution_count": 24,
     "metadata": {},
     "output_type": "execute_result"
    }
   ],
   "source": [
    "df = pandas.read_sql_query('select * from course_gp12', conn)\n",
    "df[:]"
   ]
  },
  {
   "cell_type": "markdown",
   "metadata": {},
   "source": [
    "#### 6)"
   ]
  },
  {
   "cell_type": "code",
   "execution_count": 25,
   "metadata": {},
   "outputs": [],
   "source": [
    "sql_statement7 = ''' \n",
    "                update course_gp12\n",
    "                set temail = 'anotherfake@jmu.edu'\n",
    "                where temail = 'weixx@jmu.edu'\n",
    "\n",
    "                '''"
   ]
  },
  {
   "cell_type": "code",
   "execution_count": 26,
   "metadata": {},
   "outputs": [],
   "source": [
    "cur.execute(sql_statement7)"
   ]
  },
  {
   "cell_type": "code",
   "execution_count": 27,
   "metadata": {},
   "outputs": [],
   "source": [
    "conn.commit()"
   ]
  },
  {
   "cell_type": "code",
   "execution_count": 28,
   "metadata": {},
   "outputs": [
    {
     "data": {
      "text/html": [
       "<div>\n",
       "<style scoped>\n",
       "    .dataframe tbody tr th:only-of-type {\n",
       "        vertical-align: middle;\n",
       "    }\n",
       "\n",
       "    .dataframe tbody tr th {\n",
       "        vertical-align: top;\n",
       "    }\n",
       "\n",
       "    .dataframe thead th {\n",
       "        text-align: right;\n",
       "    }\n",
       "</style>\n",
       "<table border=\"1\" class=\"dataframe\">\n",
       "  <thead>\n",
       "    <tr style=\"text-align: right;\">\n",
       "      <th></th>\n",
       "      <th>name</th>\n",
       "      <th>room</th>\n",
       "      <th>temail</th>\n",
       "    </tr>\n",
       "  </thead>\n",
       "  <tbody>\n",
       "    <tr>\n",
       "      <th>0</th>\n",
       "      <td>ia300                                         ...</td>\n",
       "      <td>engeo1209</td>\n",
       "      <td>marrinsp@jmu.edu                              ...</td>\n",
       "    </tr>\n",
       "    <tr>\n",
       "      <th>1</th>\n",
       "      <td>ia261                                         ...</td>\n",
       "      <td>isat150</td>\n",
       "      <td>waltontr@jmu.edu                              ...</td>\n",
       "    </tr>\n",
       "    <tr>\n",
       "      <th>2</th>\n",
       "      <td>ia240                                         ...</td>\n",
       "      <td>engeo2202</td>\n",
       "      <td>moore8ka@jmu.edu                              ...</td>\n",
       "    </tr>\n",
       "    <tr>\n",
       "      <th>3</th>\n",
       "      <td>ia480                                         ...</td>\n",
       "      <td>engeo2014</td>\n",
       "      <td>faketeacher@jmu.edu                           ...</td>\n",
       "    </tr>\n",
       "    <tr>\n",
       "      <th>4</th>\n",
       "      <td>ia340                                         ...</td>\n",
       "      <td>engeo2010</td>\n",
       "      <td>faketeacher@jmu.edu                           ...</td>\n",
       "    </tr>\n",
       "    <tr>\n",
       "      <th>5</th>\n",
       "      <td>ia250                                         ...</td>\n",
       "      <td>engeo1209</td>\n",
       "      <td>anotherfake@jmu.edu                           ...</td>\n",
       "    </tr>\n",
       "    <tr>\n",
       "      <th>6</th>\n",
       "      <td>ia210                                         ...</td>\n",
       "      <td>engeo2202</td>\n",
       "      <td>anotherfake@jmu.edu                           ...</td>\n",
       "    </tr>\n",
       "  </tbody>\n",
       "</table>\n",
       "</div>"
      ],
      "text/plain": [
       "                                                name                  room  \\\n",
       "0  ia300                                         ...  engeo1209              \n",
       "1  ia261                                         ...  isat150                \n",
       "2  ia240                                         ...  engeo2202              \n",
       "3  ia480                                         ...  engeo2014              \n",
       "4  ia340                                         ...  engeo2010              \n",
       "5  ia250                                         ...  engeo1209              \n",
       "6  ia210                                         ...  engeo2202              \n",
       "\n",
       "                                              temail  \n",
       "0  marrinsp@jmu.edu                              ...  \n",
       "1  waltontr@jmu.edu                              ...  \n",
       "2  moore8ka@jmu.edu                              ...  \n",
       "3  faketeacher@jmu.edu                           ...  \n",
       "4  faketeacher@jmu.edu                           ...  \n",
       "5  anotherfake@jmu.edu                           ...  \n",
       "6  anotherfake@jmu.edu                           ...  "
      ]
     },
     "execution_count": 28,
     "metadata": {},
     "output_type": "execute_result"
    }
   ],
   "source": [
    "df = pandas.read_sql_query('select * from course_gp12', conn)\n",
    "df[:]"
   ]
  },
  {
   "cell_type": "code",
   "execution_count": 29,
   "metadata": {},
   "outputs": [],
   "source": [
    "sql_statement8 = ''' \n",
    "                delete from teacher_gp12\n",
    "                where email = 'weixx@jmu.edu'\n",
    "\n",
    "                '''"
   ]
  },
  {
   "cell_type": "code",
   "execution_count": 30,
   "metadata": {},
   "outputs": [],
   "source": [
    "cur.execute(sql_statement8)"
   ]
  },
  {
   "cell_type": "code",
   "execution_count": 31,
   "metadata": {},
   "outputs": [],
   "source": [
    "conn.commit()"
   ]
  },
  {
   "cell_type": "code",
   "execution_count": 32,
   "metadata": {},
   "outputs": [
    {
     "data": {
      "text/html": [
       "<div>\n",
       "<style scoped>\n",
       "    .dataframe tbody tr th:only-of-type {\n",
       "        vertical-align: middle;\n",
       "    }\n",
       "\n",
       "    .dataframe tbody tr th {\n",
       "        vertical-align: top;\n",
       "    }\n",
       "\n",
       "    .dataframe thead th {\n",
       "        text-align: right;\n",
       "    }\n",
       "</style>\n",
       "<table border=\"1\" class=\"dataframe\">\n",
       "  <thead>\n",
       "    <tr style=\"text-align: right;\">\n",
       "      <th></th>\n",
       "      <th>email</th>\n",
       "      <th>name</th>\n",
       "      <th>office</th>\n",
       "    </tr>\n",
       "  </thead>\n",
       "  <tbody>\n",
       "    <tr>\n",
       "      <th>0</th>\n",
       "      <td>marrinsp@jmu.edu                              ...</td>\n",
       "      <td>Stephen Marrin                                ...</td>\n",
       "      <td>engeo2104</td>\n",
       "    </tr>\n",
       "    <tr>\n",
       "      <th>1</th>\n",
       "      <td>moore8ka@jmu.edu                              ...</td>\n",
       "      <td>Kathleen Moore                                ...</td>\n",
       "      <td>isat116</td>\n",
       "    </tr>\n",
       "    <tr>\n",
       "      <th>2</th>\n",
       "      <td>waltontr@jmu.edu                              ...</td>\n",
       "      <td>Timothy Walton                                ...</td>\n",
       "      <td>isat326</td>\n",
       "    </tr>\n",
       "    <tr>\n",
       "      <th>3</th>\n",
       "      <td>faketeacher@jmu.edu                           ...</td>\n",
       "      <td>Fake Teacher                                  ...</td>\n",
       "      <td>engeo2010</td>\n",
       "    </tr>\n",
       "    <tr>\n",
       "      <th>4</th>\n",
       "      <td>anotherfake@jmu.edu                           ...</td>\n",
       "      <td>Another Fake                                  ...</td>\n",
       "      <td>engeo2011</td>\n",
       "    </tr>\n",
       "  </tbody>\n",
       "</table>\n",
       "</div>"
      ],
      "text/plain": [
       "                                               email  \\\n",
       "0  marrinsp@jmu.edu                              ...   \n",
       "1  moore8ka@jmu.edu                              ...   \n",
       "2  waltontr@jmu.edu                              ...   \n",
       "3  faketeacher@jmu.edu                           ...   \n",
       "4  anotherfake@jmu.edu                           ...   \n",
       "\n",
       "                                                name                office  \n",
       "0  Stephen Marrin                                ...  engeo2104             \n",
       "1  Kathleen Moore                                ...  isat116               \n",
       "2  Timothy Walton                                ...  isat326               \n",
       "3  Fake Teacher                                  ...  engeo2010             \n",
       "4  Another Fake                                  ...  engeo2011             "
      ]
     },
     "execution_count": 32,
     "metadata": {},
     "output_type": "execute_result"
    }
   ],
   "source": [
    "df = pandas.read_sql_query('select * from teacher_gp12', conn)\n",
    "df[:]"
   ]
  },
  {
   "cell_type": "code",
   "execution_count": null,
   "metadata": {},
   "outputs": [],
   "source": []
  }
 ],
 "metadata": {
  "kernelspec": {
   "display_name": "Python 3",
   "language": "python",
   "name": "python3"
  },
  "language_info": {
   "codemirror_mode": {
    "name": "ipython",
    "version": 3
   },
   "file_extension": ".py",
   "mimetype": "text/x-python",
   "name": "python",
   "nbconvert_exporter": "python",
   "pygments_lexer": "ipython3",
   "version": "3.6.5"
  }
 },
 "nbformat": 4,
 "nbformat_minor": 2
}
